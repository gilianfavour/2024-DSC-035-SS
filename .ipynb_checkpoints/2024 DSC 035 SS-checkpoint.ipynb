{
 "cells": [
  {
   "cell_type": "markdown",
   "id": "973e5240-b150-47ca-b237-fab5faaabb54",
   "metadata": {},
   "source": [
    "# QUESTION 1\n",
    "##  Variation and variability"
   ]
  },
  {
   "cell_type": "code",
   "execution_count": 1,
   "id": "1dfc3baa-7e13-41f6-b457-d8f67c7bec95",
   "metadata": {},
   "outputs": [],
   "source": [
    "# importing libraries\n",
    "import pandas as pd\n",
    "import numpy as np"
   ]
  },
  {
   "cell_type": "code",
   "execution_count": 9,
   "id": "0244f844-ade3-40e4-888d-5e4cf61795dc",
   "metadata": {},
   "outputs": [],
   "source": []
  },
  {
   "cell_type": "code",
   "execution_count": null,
   "id": "82f937c5-a4c7-4195-81f9-99c471df2b1c",
   "metadata": {},
   "outputs": [],
   "source": []
  },
  {
   "cell_type": "code",
   "execution_count": null,
   "id": "734b3a52-c39b-45ee-b9f7-0622e510a973",
   "metadata": {},
   "outputs": [],
   "source": []
  },
  {
   "cell_type": "code",
   "execution_count": null,
   "id": "9a3c4514-4385-47bf-bbba-8733b0ebd66a",
   "metadata": {},
   "outputs": [],
   "source": []
  },
  {
   "cell_type": "code",
   "execution_count": null,
   "id": "caf3f9cc-d351-41b8-9ddd-ec7bc3c8d14f",
   "metadata": {},
   "outputs": [],
   "source": []
  },
  {
   "cell_type": "code",
   "execution_count": null,
   "id": "15d4e951-1040-4f39-8f85-64b3ea721929",
   "metadata": {},
   "outputs": [],
   "source": []
  },
  {
   "cell_type": "markdown",
   "id": "25c84e77-f014-4514-90e5-a72866c332a9",
   "metadata": {},
   "source": [
    "# QUESTION 2\n",
    "## Exploratory Data Analysis"
   ]
  },
  {
   "cell_type": "code",
   "execution_count": 10,
   "id": "2e581e60-f168-457e-9780-31aaa6cdae69",
   "metadata": {},
   "outputs": [],
   "source": [
    "#importing libraries(Pandas and Numpy)\n",
    "import pandas as pd\n",
    "import numpy as np"
   ]
  },
  {
   "cell_type": "code",
   "execution_count": 11,
   "id": "292b6e6a-8c06-4c3e-a932-53a78fcf4969",
   "metadata": {},
   "outputs": [
    {
     "data": {
      "text/html": [
       "<div>\n",
       "<style scoped>\n",
       "    .dataframe tbody tr th:only-of-type {\n",
       "        vertical-align: middle;\n",
       "    }\n",
       "\n",
       "    .dataframe tbody tr th {\n",
       "        vertical-align: top;\n",
       "    }\n",
       "\n",
       "    .dataframe thead th {\n",
       "        text-align: right;\n",
       "    }\n",
       "</style>\n",
       "<table border=\"1\" class=\"dataframe\">\n",
       "  <thead>\n",
       "    <tr style=\"text-align: right;\">\n",
       "      <th></th>\n",
       "      <th>StudentID</th>\n",
       "      <th>Gender</th>\n",
       "      <th>Age</th>\n",
       "      <th>StudyHoursPerWeek</th>\n",
       "      <th>AttendanceRate</th>\n",
       "      <th>GPA</th>\n",
       "      <th>Major</th>\n",
       "      <th>PartTimeJob</th>\n",
       "      <th>ExtraCurricularActivities</th>\n",
       "    </tr>\n",
       "  </thead>\n",
       "  <tbody>\n",
       "    <tr>\n",
       "      <th>0</th>\n",
       "      <td>1</td>\n",
       "      <td>Male</td>\n",
       "      <td>24</td>\n",
       "      <td>37</td>\n",
       "      <td>90.75</td>\n",
       "      <td>3.47</td>\n",
       "      <td>Arts</td>\n",
       "      <td>Yes</td>\n",
       "      <td>No</td>\n",
       "    </tr>\n",
       "    <tr>\n",
       "      <th>1</th>\n",
       "      <td>2</td>\n",
       "      <td>Female</td>\n",
       "      <td>22</td>\n",
       "      <td>37</td>\n",
       "      <td>74.90</td>\n",
       "      <td>2.32</td>\n",
       "      <td>Education</td>\n",
       "      <td>No</td>\n",
       "      <td>No</td>\n",
       "    </tr>\n",
       "    <tr>\n",
       "      <th>2</th>\n",
       "      <td>3</td>\n",
       "      <td>Male</td>\n",
       "      <td>22</td>\n",
       "      <td>10</td>\n",
       "      <td>53.36</td>\n",
       "      <td>2.38</td>\n",
       "      <td>Business</td>\n",
       "      <td>No</td>\n",
       "      <td>No</td>\n",
       "    </tr>\n",
       "    <tr>\n",
       "      <th>3</th>\n",
       "      <td>4</td>\n",
       "      <td>Male</td>\n",
       "      <td>24</td>\n",
       "      <td>10</td>\n",
       "      <td>70.26</td>\n",
       "      <td>3.46</td>\n",
       "      <td>Science</td>\n",
       "      <td>Yes</td>\n",
       "      <td>No</td>\n",
       "    </tr>\n",
       "    <tr>\n",
       "      <th>4</th>\n",
       "      <td>5</td>\n",
       "      <td>Male</td>\n",
       "      <td>18</td>\n",
       "      <td>19</td>\n",
       "      <td>74.87</td>\n",
       "      <td>2.31</td>\n",
       "      <td>Education</td>\n",
       "      <td>Yes</td>\n",
       "      <td>No</td>\n",
       "    </tr>\n",
       "    <tr>\n",
       "      <th>...</th>\n",
       "      <td>...</td>\n",
       "      <td>...</td>\n",
       "      <td>...</td>\n",
       "      <td>...</td>\n",
       "      <td>...</td>\n",
       "      <td>...</td>\n",
       "      <td>...</td>\n",
       "      <td>...</td>\n",
       "      <td>...</td>\n",
       "    </tr>\n",
       "    <tr>\n",
       "      <th>495</th>\n",
       "      <td>496</td>\n",
       "      <td>Male</td>\n",
       "      <td>22</td>\n",
       "      <td>37</td>\n",
       "      <td>76.61</td>\n",
       "      <td>2.97</td>\n",
       "      <td>Science</td>\n",
       "      <td>No</td>\n",
       "      <td>No</td>\n",
       "    </tr>\n",
       "    <tr>\n",
       "      <th>496</th>\n",
       "      <td>497</td>\n",
       "      <td>Male</td>\n",
       "      <td>23</td>\n",
       "      <td>11</td>\n",
       "      <td>56.29</td>\n",
       "      <td>3.20</td>\n",
       "      <td>Science</td>\n",
       "      <td>No</td>\n",
       "      <td>No</td>\n",
       "    </tr>\n",
       "    <tr>\n",
       "      <th>497</th>\n",
       "      <td>498</td>\n",
       "      <td>Female</td>\n",
       "      <td>20</td>\n",
       "      <td>6</td>\n",
       "      <td>56.64</td>\n",
       "      <td>3.20</td>\n",
       "      <td>Science</td>\n",
       "      <td>No</td>\n",
       "      <td>Yes</td>\n",
       "    </tr>\n",
       "    <tr>\n",
       "      <th>498</th>\n",
       "      <td>499</td>\n",
       "      <td>Male</td>\n",
       "      <td>22</td>\n",
       "      <td>18</td>\n",
       "      <td>57.18</td>\n",
       "      <td>2.05</td>\n",
       "      <td>Business</td>\n",
       "      <td>No</td>\n",
       "      <td>Yes</td>\n",
       "    </tr>\n",
       "    <tr>\n",
       "      <th>499</th>\n",
       "      <td>500</td>\n",
       "      <td>Female</td>\n",
       "      <td>24</td>\n",
       "      <td>21</td>\n",
       "      <td>96.99</td>\n",
       "      <td>2.64</td>\n",
       "      <td>Engineering</td>\n",
       "      <td>No</td>\n",
       "      <td>No</td>\n",
       "    </tr>\n",
       "  </tbody>\n",
       "</table>\n",
       "<p>500 rows × 9 columns</p>\n",
       "</div>"
      ],
      "text/plain": [
       "     StudentID  Gender  Age  StudyHoursPerWeek  AttendanceRate   GPA  \\\n",
       "0            1    Male   24                 37           90.75  3.47   \n",
       "1            2  Female   22                 37           74.90  2.32   \n",
       "2            3    Male   22                 10           53.36  2.38   \n",
       "3            4    Male   24                 10           70.26  3.46   \n",
       "4            5    Male   18                 19           74.87  2.31   \n",
       "..         ...     ...  ...                ...             ...   ...   \n",
       "495        496    Male   22                 37           76.61  2.97   \n",
       "496        497    Male   23                 11           56.29  3.20   \n",
       "497        498  Female   20                  6           56.64  3.20   \n",
       "498        499    Male   22                 18           57.18  2.05   \n",
       "499        500  Female   24                 21           96.99  2.64   \n",
       "\n",
       "           Major PartTimeJob ExtraCurricularActivities  \n",
       "0           Arts         Yes                        No  \n",
       "1      Education          No                        No  \n",
       "2       Business          No                        No  \n",
       "3        Science         Yes                        No  \n",
       "4      Education         Yes                        No  \n",
       "..           ...         ...                       ...  \n",
       "495      Science          No                        No  \n",
       "496      Science          No                        No  \n",
       "497      Science          No                       Yes  \n",
       "498     Business          No                       Yes  \n",
       "499  Engineering          No                        No  \n",
       "\n",
       "[500 rows x 9 columns]"
      ]
     },
     "execution_count": 11,
     "metadata": {},
     "output_type": "execute_result"
    }
   ],
   "source": [
    "# importing the students data set using pandas library\n",
    "student_df = pd.read_csv('student_performance_data.csv')\n",
    "student_df"
   ]
  },
  {
   "cell_type": "code",
   "execution_count": 12,
   "id": "a33697b1-e86a-47bc-8f1d-ea8ae3eb1eaf",
   "metadata": {},
   "outputs": [
    {
     "name": "stdout",
     "output_type": "stream",
     "text": [
      "<class 'pandas.core.frame.DataFrame'>\n",
      "RangeIndex: 500 entries, 0 to 499\n",
      "Data columns (total 9 columns):\n",
      " #   Column                     Non-Null Count  Dtype  \n",
      "---  ------                     --------------  -----  \n",
      " 0   StudentID                  500 non-null    int64  \n",
      " 1   Gender                     500 non-null    object \n",
      " 2   Age                        500 non-null    int64  \n",
      " 3   StudyHoursPerWeek          500 non-null    int64  \n",
      " 4   AttendanceRate             500 non-null    float64\n",
      " 5   GPA                        500 non-null    float64\n",
      " 6   Major                      500 non-null    object \n",
      " 7   PartTimeJob                500 non-null    object \n",
      " 8   ExtraCurricularActivities  500 non-null    object \n",
      "dtypes: float64(2), int64(3), object(4)\n",
      "memory usage: 35.3+ KB\n"
     ]
    }
   ],
   "source": [
    "student_df.info()"
   ]
  },
  {
   "cell_type": "code",
   "execution_count": 13,
   "id": "a2ddc5d5-6ac1-4a19-ac4a-6658b15f3f0a",
   "metadata": {},
   "outputs": [
    {
     "name": "stdout",
     "output_type": "stream",
     "text": [
      "   Gender        Major  StudyHoursPerWeek\n",
      "0  Female         Arts               1070\n",
      "1  Female     Business               1229\n",
      "2  Female    Education                818\n",
      "3  Female  Engineering               1196\n",
      "4  Female      Science                813\n",
      "5    Male         Arts                881\n",
      "6    Male     Business               1130\n",
      "7    Male    Education               1212\n",
      "8    Male  Engineering                929\n",
      "9    Male      Science                660\n"
     ]
    },
    {
     "data": {
      "text/html": [
       "<div>\n",
       "<style scoped>\n",
       "    .dataframe tbody tr th:only-of-type {\n",
       "        vertical-align: middle;\n",
       "    }\n",
       "\n",
       "    .dataframe tbody tr th {\n",
       "        vertical-align: top;\n",
       "    }\n",
       "\n",
       "    .dataframe thead th {\n",
       "        text-align: right;\n",
       "    }\n",
       "</style>\n",
       "<table border=\"1\" class=\"dataframe\">\n",
       "  <thead>\n",
       "    <tr style=\"text-align: right;\">\n",
       "      <th></th>\n",
       "      <th>Gender</th>\n",
       "      <th>Major</th>\n",
       "      <th>StudyHoursPerWeek</th>\n",
       "    </tr>\n",
       "  </thead>\n",
       "  <tbody>\n",
       "    <tr>\n",
       "      <th>1</th>\n",
       "      <td>Female</td>\n",
       "      <td>Business</td>\n",
       "      <td>1229</td>\n",
       "    </tr>\n",
       "    <tr>\n",
       "      <th>7</th>\n",
       "      <td>Male</td>\n",
       "      <td>Education</td>\n",
       "      <td>1212</td>\n",
       "    </tr>\n",
       "  </tbody>\n",
       "</table>\n",
       "</div>"
      ],
      "text/plain": [
       "   Gender      Major  StudyHoursPerWeek\n",
       "1  Female   Business               1229\n",
       "7    Male  Education               1212"
      ]
     },
     "execution_count": 13,
     "metadata": {},
     "output_type": "execute_result"
    }
   ],
   "source": [
    "# a)\n",
    "\n",
    "# Grouping each gender by total study hours per week\n",
    "grouped_by_gender = student_df.groupby(['Gender', 'Major'])['StudyHoursPerWeek'].sum().reset_index()\n",
    "#  .sum() aggregates the study hours.\n",
    "# .reset_index() is for\n",
    "print(grouped_by_gender)\n",
    "# printing the new grouped data and the output is each Gender displaying the Major and the total number od Study Hours the took to study\n",
    "\n",
    "# Getting the highest hours used to study\n",
    "highest_study_hours_grouped_by_gender = grouped_by_gender.loc[grouped_by_gender.groupby('Gender')['StudyHoursPerWeek'].idxmax()]\n",
    "# .loc is used to access data in a DataFrame using label-based indexing.\n",
    "# .idxmax() finds the index of the maximum value for each gender, so we can get the corresponding major.\n",
    "highest_study_hours_grouped_by_gender\n",
    "#Calling the variable name inorder to display output which is the Gender row having the Male and female columns, Major row and StudyHoursPerWeek showimg the highest values"
   ]
  },
  {
   "cell_type": "code",
   "execution_count": 14,
   "id": "d64ad11f-1565-4a7d-a137-a7a34a48bd2a",
   "metadata": {},
   "outputs": [],
   "source": [
    "# b)\n",
    "\n",
    "# grouping the data set  by gender and getting the mean\n",
    "grouped_by_gender = student_df.groupby('Gender') ['AttendanceRate'].mean()\n",
    "# # idxmax() finds the gender with the highest average, \n",
    "#.max() retrieves the highest value\n",
    "highest_attendance_gender = grouped_by_gender.idxmax()\n",
    "highest_attendance_rate = grouped_by_gender.max()"
   ]
  },
  {
   "cell_type": "code",
   "execution_count": 15,
   "id": "afa3515a-94ae-4635-bd52-1d2b856d76d4",
   "metadata": {},
   "outputs": [
    {
     "name": "stdout",
     "output_type": "stream",
     "text": [
      "PartTimeJob\n",
      "Yes    53.6\n",
      "No     46.4\n",
      "Name: proportion, dtype: float64\n"
     ]
    }
   ],
   "source": [
    "# c)  What percentage of students have part-time jobs, and what percentage have no part-time jobs? \n",
    "part_time_job_count =student_df['PartTimeJob'].value_counts(normalize=True) * 100\n",
    "# value_counts(normalize=True) counts the occurrences of each unique value (i.e., 'Yes' and 'No') and normalizes it to give a percentage.\n",
    "print(part_time_job_count)\n"
   ]
  },
  {
   "cell_type": "code",
   "execution_count": 16,
   "id": "20b244d2-6a7a-4284-ac77-560533a3782f",
   "metadata": {},
   "outputs": [
    {
     "data": {
      "text/html": [
       "<div>\n",
       "<style scoped>\n",
       "    .dataframe tbody tr th:only-of-type {\n",
       "        vertical-align: middle;\n",
       "    }\n",
       "\n",
       "    .dataframe tbody tr th {\n",
       "        vertical-align: top;\n",
       "    }\n",
       "\n",
       "    .dataframe thead th {\n",
       "        text-align: right;\n",
       "    }\n",
       "</style>\n",
       "<table border=\"1\" class=\"dataframe\">\n",
       "  <thead>\n",
       "    <tr style=\"text-align: right;\">\n",
       "      <th></th>\n",
       "      <th>GPA</th>\n",
       "      <th>Age</th>\n",
       "    </tr>\n",
       "    <tr>\n",
       "      <th>Gender</th>\n",
       "      <th></th>\n",
       "      <th></th>\n",
       "    </tr>\n",
       "  </thead>\n",
       "  <tbody>\n",
       "    <tr>\n",
       "      <th>Female</th>\n",
       "      <td>2.995352</td>\n",
       "      <td>4.005637</td>\n",
       "    </tr>\n",
       "    <tr>\n",
       "      <th>Male</th>\n",
       "      <td>2.974467</td>\n",
       "      <td>3.960130</td>\n",
       "    </tr>\n",
       "  </tbody>\n",
       "</table>\n",
       "</div>"
      ],
      "text/plain": [
       "             GPA       Age\n",
       "Gender                    \n",
       "Female  2.995352  4.005637\n",
       "Male    2.974467  3.960130"
      ]
     },
     "execution_count": 16,
     "metadata": {},
     "output_type": "execute_result"
    }
   ],
   "source": [
    "#d)\n",
    " #For each gender, what is the mean GPA and variance of age? \n",
    "gpa_and_age_stats_by_gender = student_df.groupby('Gender').agg({'GPA': 'mean', 'Age': 'var'})\n",
    "gpa_and_age_stats_by_gender\n",
    "# agg({'GPA': 'mean', 'Age': 'var'}) calculates the mean GPA and the variance of age.\n"
   ]
  },
  {
   "cell_type": "code",
   "execution_count": 17,
   "id": "7e47095b-528b-4587-ad6b-4792d84cbd77",
   "metadata": {},
   "outputs": [
    {
     "data": {
      "image/png": "[encoded data removed]",
      "text/plain": [
       "<Figure size 1000x600 with 1 Axes>"
      ]
     },
     "metadata": {},
     "output_type": "display_data"
    }
   ],
   "source": [
    "# e)  Create a visualization that effectively shows if there is a relationship between any two variables of your choice. \n",
    "#Your answer must be given in a single pipe.\n",
    "import matplotlib.pyplot as plt\n",
    "import seaborn as sns\n",
    "plt.figure(figsize=(10, 6))\n",
    "sns.scatterplot(x='StudyHoursPerWeek', y='GPA', data=student_df)\n",
    "plt.title('Relationship between Study Hours per Week and GPA')\n",
    "plt.xlabel('Study Hours per Week')\n",
    "plt.ylabel('GPA')\n",
    "plt.show()"
   ]
  },
  {
   "cell_type": "code",
   "execution_count": null,
   "id": "5f7a0049-d65e-4581-9956-bd900f19c9ef",
   "metadata": {},
   "outputs": [],
   "source": []
  },
  {
   "cell_type": "code",
   "execution_count": null,
   "id": "849e36e3-93ae-4f89-a400-d74b6b6b379b",
   "metadata": {},
   "outputs": [],
   "source": []
  },
  {
   "cell_type": "markdown",
   "id": "6fdbc147-38fa-4201-8536-0f5695c86423",
   "metadata": {},
   "source": [
    "# QUSTION 3"
   ]
  },
  {
   "cell_type": "markdown",
   "id": "f2d4802d-1f4f-46e3-8bdb-5486788ad2ce",
   "metadata": {},
   "source": [
    "\n",
    "a) steps of fitting a linear regression in python\n",
    "\n",
    "Briefly describe the steps involved in fitting a linear regression in Python? \n",
    "\n",
    "1.Import the Libraries. \n",
    "        This involves importing the libraries to help solve the equation.\n",
    "        \n",
    "2. Import the DataSet \n",
    "        This involves importing the involved data set into the jupyter notebook\n",
    "   \n",
    "3. Check for any missing data points \n",
    "        This helps to reduce errors and if they are there then remove the missing values\n",
    "\n",
    "   \n",
    "4. Select Two columns\n",
    "        This helps to create the dependent and the independent variables inorder to allow us to split them.\n",
    "\n",
    "   \n",
    "5. Split the DataSet into two columns\n",
    "        Split them inorder to divide them to train and test\n",
    "\n",
    "6. Standardize the Features and Target Variable\n",
    "        We choose features  the independent variables (predictors), and the target variable . We use .fit_transform for both the x and the y\n",
    "   \n",
    "8. Train the Linear Regression Model\n",
    "         We use LinearRegression() from scikit-learn to create the model and fit it to the training data using .fit().\n",
    "\n",
    "   \n",
    "10.  Make Predictions\n",
    "            Getting the minmam and the maximum\n",
    "        \n",
    "11.  Inverse Transform the Predictions\n",
    "            Inverse reshape and then flatten\n",
    "12.  Evaluate the Model, and Plot\n",
    "        We evaluate the model using metrics such as Mean Squared Error (MSE) and R-squared\n",
    "\n",
    "14.  Plotting the Train and Test Data with the Linear Regression Line"
   ]
  },
  {
   "cell_type": "markdown",
   "id": "d08aaca8-2722-42df-95b0-0f9081e800eb",
   "metadata": {},
   "source": [
    "b)  What assumptions does the linear regression take into consideration? \n",
    "\n",
    "1.Linearity\n",
    "\n",
    "2.Independence\n",
    "\n",
    "3. Normality\n",
    "   \n",
    "4.Homoscedasticity"
   ]
  },
  {
   "cell_type": "code",
   "execution_count": null,
   "id": "c586dfa3-ceef-4436-afc7-3c379a4d3c8c",
   "metadata": {},
   "outputs": [],
   "source": []
  },
  {
   "cell_type": "code",
   "execution_count": null,
   "id": "b5a7927d-e626-44fa-b07c-62b766be73b1",
   "metadata": {},
   "outputs": [],
   "source": []
  }
 ],
 "metadata": {
  "kernelspec": {
   "display_name": "Python 3 (ipykernel)",
   "language": "python",
   "name": "python3"
  },
  "language_info": {
   "codemirror_mode": {
    "name": "ipython",
    "version": 3
   },
   "file_extension": ".py",
   "mimetype": "text/x-python",
   "name": "python",
   "nbconvert_exporter": "python",
   "pygments_lexer": "ipython3",
   "version": "3.13.0"
  }
 },
 "nbformat": 4,
 "nbformat_minor": 5
}

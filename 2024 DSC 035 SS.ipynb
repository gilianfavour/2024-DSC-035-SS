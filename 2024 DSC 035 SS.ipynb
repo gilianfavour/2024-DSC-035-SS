{
 "cells": [
  {
   "cell_type": "markdown",
   "id": "973e5240-b150-47ca-b237-fab5faaabb54",
   "metadata": {},
   "source": [
    "# QUESTION 1\n",
    "##  Variation and variability"
   ]
  },
  {
   "cell_type": "code",
   "execution_count": 165,
   "id": "1dfc3baa-7e13-41f6-b457-d8f67c7bec95",
   "metadata": {},
   "outputs": [],
   "source": [
    "# importing libraries\n",
    "import pandas as pd\n",
    "import numpy as np"
   ]
  },
  {
   "cell_type": "code",
   "execution_count": 198,
   "id": "0244f844-ade3-40e4-888d-5e4cf61795dc",
   "metadata": {},
   "outputs": [
    {
     "name": "stdout",
     "output_type": "stream",
     "text": [
      "   Age     Sex           Marital_status  Number_of_children  Family_size  \\\n",
      "0   30    Male  Married, spouse present                   2            4   \n",
      "1   28  Female  Married, spouse present     1 child present            3   \n",
      "2   34    Male  Married, spouse present     1 child present            3   \n",
      "3   58  Female   Married, spouse absent     1 child present            2   \n",
      "4   39    Male     Never married/single  0 children present            1   \n",
      "\n",
      "                 Education-degree_recode  \\\n",
      "0      Masterâ€™s or professional degree   \n",
      "1      Masterâ€™s or professional degree   \n",
      "2                    Bachelorâ€™s degree   \n",
      "3  1 or more years of college, no degree   \n",
      "4                    Bachelorâ€™s degree   \n",
      "\n",
      "               Education-degree_recode 2  \\\n",
      "0          Master or professional degree   \n",
      "1          Master or professional degree   \n",
      "2                        Bachelor degree   \n",
      "3  1 or more years of college, no degree   \n",
      "4                        Bachelor degree   \n",
      "\n",
      "                               Education Race_ethnicity-multi_recode  \\\n",
      "0   Master or PhD or professional degree          Non-Hispanic White   \n",
      "1   Master or PhD or professional degree          Non-Hispanic White   \n",
      "2           Associate or Bachelor degree          Non-Hispanic White   \n",
      "3  1 or more years of college, no degree          Non-Hispanic White   \n",
      "4           Associate or Bachelor degree          Non-Hispanic White   \n",
      "\n",
      "   Immigrate-year                          Birthplace_recode  \\\n",
      "0               0  U.S. state, territory, or outlying region   \n",
      "1               0  U.S. state, territory, or outlying region   \n",
      "2               0  U.S. state, territory, or outlying region   \n",
      "3               0  U.S. state, territory, or outlying region   \n",
      "4               0  U.S. state, territory, or outlying region   \n",
      "\n",
      "             Speaks_English Employment_status  Income-wages Region_recode  \\\n",
      "0  Yes, speaks only English          Employed         63000         South   \n",
      "1  Yes, speaks only English          Employed         46000         South   \n",
      "2  Yes, speaks only English          Employed         45000         South   \n",
      "3  Yes, speaks only English          Employed         55000         South   \n",
      "4  Yes, speaks only English          Employed         12000         South   \n",
      "\n",
      "  Region-division_recode       Moved  Year      state  \n",
      "0     East South Central  Same house  2020  Tennessee  \n",
      "1     East South Central  Same house  2020  Tennessee  \n",
      "2     East South Central  Same house  2020  Tennessee  \n",
      "3     East South Central  Same house  2020  Tennessee  \n",
      "4     East South Central  Same house  2020  Tennessee  \n"
     ]
    }
   ],
   "source": [
    "# importing the dataset\n",
    "wages_df = pd.read_excel ('Wages 2020Census cleaned.xlsx')\n",
    "print (wages_df.head())"
   ]
  },
  {
   "cell_type": "code",
   "execution_count": 214,
   "id": "82f937c5-a4c7-4195-81f9-99c471df2b1c",
   "metadata": {},
   "outputs": [
    {
     "name": "stdout",
     "output_type": "stream",
     "text": [
      "<class 'pandas.core.frame.DataFrame'>\n",
      "RangeIndex: 4365 entries, 0 to 4364\n",
      "Data columns (total 19 columns):\n",
      " #   Column                       Non-Null Count  Dtype \n",
      "---  ------                       --------------  ----- \n",
      " 0   Age                          4365 non-null   int64 \n",
      " 1   Sex                          4365 non-null   object\n",
      " 2   Marital_status               4365 non-null   object\n",
      " 3   Number_of_children           4365 non-null   object\n",
      " 4   Family_size                  4365 non-null   int64 \n",
      " 5   Education-degree_recode      4365 non-null   object\n",
      " 6   Education-degree_recode 2    4365 non-null   object\n",
      " 7   Education                    4365 non-null   object\n",
      " 8   Race_ethnicity-multi_recode  4365 non-null   object\n",
      " 9   Immigrate-year               4365 non-null   int64 \n",
      " 10  Birthplace_recode            4365 non-null   object\n",
      " 11  Speaks_English               4365 non-null   object\n",
      " 12  Employment_status            4365 non-null   object\n",
      " 13  Income-wages                 4365 non-null   int64 \n",
      " 14  Region_recode                4365 non-null   object\n",
      " 15  Region-division_recode       4365 non-null   object\n",
      " 16  Moved                        4365 non-null   object\n",
      " 17  Year                         4365 non-null   int64 \n",
      " 18  state                        4365 non-null   object\n",
      "dtypes: int64(5), object(14)\n",
      "memory usage: 648.1+ KB\n"
     ]
    }
   ],
   "source": [
    "# finding it's sahpe and the summary of the infomation\n",
    "wages_df.shape\n",
    "wages_df.info()"
   ]
  },
  {
   "cell_type": "code",
   "execution_count": 215,
   "id": "734b3a52-c39b-45ee-b9f7-0622e510a973",
   "metadata": {},
   "outputs": [
    {
     "name": "stdout",
     "output_type": "stream",
     "text": [
      "The mean is 58704.16494845361\n",
      " The median is 41000.0\n"
     ]
    }
   ],
   "source": [
    " # a) What is a ’typical’ yearly income for these 4,365 people? \n",
    "mean_income = wages_df['Income-wages'].mean()\n",
    "median_income = wages_df['Income-wages'].median()\n",
    "print(f'The mean is {mean_income}')\n",
    "print(f' The median is {median_income}')"
   ]
  },
  {
   "cell_type": "code",
   "execution_count": 216,
   "id": "9a3c4514-4385-47bf-bbba-8733b0ebd66a",
   "metadata": {},
   "outputs": [
    {
     "name": "stdout",
     "output_type": "stream",
     "text": [
      "68338.0614351565\n",
      "30\n",
      "661000\n",
      "660970\n"
     ]
    }
   ],
   "source": [
    "# b)  Do the yearly incomes of these 4,365 people vary? How do you know? \n",
    "std_dev_income = wages_df['Income-wages'].std()\n",
    "min_income = wages_df['Income-wages'].min()\n",
    "max_income = wages_df['Income-wages'].max()\n",
    "range_income = max_income - min_income\n",
    "print(std_dev_income)\n",
    "print(min_income)\n",
    "print(max_income)\n",
    "print(range_income)"
   ]
  },
  {
   "cell_type": "markdown",
   "id": "63bf7b42-4c0f-4be4-ba4b-01adbed30914",
   "metadata": {},
   "source": [
    "#### c)\n",
    "If there were no variability in income, it means that all 4,365 people have the same income. In this case:\n",
    "\n",
    "Standard deviation: The standard deviation would be 0 because there is no spread in the data.\n",
    "Interquartile range (IQR): Similarly, the IQR would also be 0 because there would be no difference between Q1 and Q3 (they would all be equal)."
   ]
  },
  {
   "cell_type": "code",
   "execution_count": 217,
   "id": "15d4e951-1040-4f39-8f85-64b3ea721929",
   "metadata": {},
   "outputs": [
    {
     "name": "stdout",
     "output_type": "stream",
     "text": [
      "\n",
      "If there were no variability:\n",
      "Mean = Median = Q1 = Q3 = Min = Max = 63000\n"
     ]
    }
   ],
   "source": [
    "# Assuming no variability in income, mean = median = Q1 = Q3 = min = max\n",
    "print(\"\\nIf there were no variability:\")\n",
    "typical_income = wages_df['Income-wages'].iloc[0]  # All incomes are assumed to be the same\n",
    "print(f\"Mean = Median = Q1 = Q3 = Min = Max = {typical_income:}\")\n",
    "\n"
   ]
  },
  {
   "cell_type": "code",
   "execution_count": 218,
   "id": "8ba13181-eeae-4361-9737-1c841fba0f8b",
   "metadata": {},
   "outputs": [
    {
     "data": {
      "image/png": "[encoded data removed]",
      "text/plain": [
       "<Figure size 1000x600 with 1 Axes>"
      ]
     },
     "metadata": {},
     "output_type": "display_data"
    }
   ],
   "source": [
    "# Boxplot for income by region\n",
    "plt.figure(figsize=(10, 6))\n",
    "sns.boxplot(x='Region_recode', y='Income-wages', data=wages_df)\n",
    "plt.title('Income by Region')\n",
    "plt.xticks(rotation=45)\n",
    "plt.show()\n",
    "\n"
   ]
  },
  {
   "cell_type": "code",
   "execution_count": 222,
   "id": "952b2aa3-26c8-4831-a3ea-d433ad9b7bb7",
   "metadata": {},
   "outputs": [
    {
     "name": "stdout",
     "output_type": "stream",
     "text": [
      "\n",
      "Income Summary by Education Level:\n",
      "                                        count           mean            std  \\\n",
      "Education                                                                     \n",
      "1 or more years of college, no degree   940.0   43912.872340   43801.946631   \n",
      "Associate or Bachelor degree           1521.0   66324.260355   68490.580580   \n",
      "HS diploma or GED                       990.0   39983.646465   39070.521919   \n",
      "Master or PhD or professional degree    613.0  106567.928222  108705.990391   \n",
      "Some schooling, no HS diploma           301.0   30486.478405   37496.119642   \n",
      "\n",
      "                                         min      25%      50%       75%  \\\n",
      "Education                                                                  \n",
      "1 or more years of college, no degree  180.0  17500.0  34400.0   58000.0   \n",
      "Associate or Bachelor degree           300.0  30000.0  50000.0   80000.0   \n",
      "HS diploma or GED                       30.0  18000.0  32000.0   50000.0   \n",
      "Master or PhD or professional degree   320.0  48000.0  76000.0  120000.0   \n",
      "Some schooling, no HS diploma          230.0  10000.0  24000.0   40000.0   \n",
      "\n",
      "                                            max  \n",
      "Education                                        \n",
      "1 or more years of college, no degree  475000.0  \n",
      "Associate or Bachelor degree           661000.0  \n",
      "HS diploma or GED                      565000.0  \n",
      "Master or PhD or professional degree   661000.0  \n",
      "Some schooling, no HS diploma          331000.0  \n",
      "\n",
      "Income Summary by Region:\n",
      "                count          mean           std    min      25%      50%  \\\n",
      "Region_recode                                                                \n",
      "Midwest         967.0  50284.798345  50430.129564  200.0  20000.0  40000.0   \n",
      "Northeast       743.0  72260.148048  90486.072737   30.0  28000.0  50000.0   \n",
      "South          1629.0  53137.213014  56247.675944  260.0  20800.0  40000.0   \n",
      "West           1026.0  65661.276803  78971.160283  230.0  23625.0  43900.0   \n",
      "\n",
      "                   75%       max  \n",
      "Region_recode                     \n",
      "Midwest        65000.0  498000.0  \n",
      "Northeast      84000.0  661000.0  \n",
      "South          67000.0  475000.0  \n",
      "West           80000.0  565000.0  \n"
     ]
    }
   ],
   "source": [
    "# To analyze numerically:\n",
    "# Group by education level and calculate summary statistics\n",
    "education_summary = wages_df.groupby('Education')['Income-wages'].describe()\n",
    "print(\"\\nIncome Summary by Education Level:\")\n",
    "print(education_summary)\n",
    "\n",
    "# Group by region and calculate summary statistics\n",
    "region_summary = wages_df.groupby('Region_recode')['Income-wages'].describe()\n",
    "print(\"\\nIncome Summary by Region:\")\n",
    "print(region_summary)\n"
   ]
  },
  {
   "cell_type": "markdown",
   "id": "b71bff80-f9e5-424e-b5b1-6075852a5caf",
   "metadata": {},
   "source": [
    "## Summary citation for number 1:\n",
    "#### https://www.scribbr.com/statistics/variability/\n",
    "#### https://www.nobledesktop.com/learn/python/range-iqr-percentile-in-python#:~:text=Range%2C%20IQR%2C%20and%20percentiles%20are,is%20highly%20susceptible%20to%20outliers."
   ]
  },
  {
   "cell_type": "code",
   "execution_count": null,
   "id": "c60787bf-6521-4db0-a7de-59799543edc9",
   "metadata": {},
   "outputs": [],
   "source": []
  },
  {
   "cell_type": "markdown",
   "id": "25c84e77-f014-4514-90e5-a72866c332a9",
   "metadata": {},
   "source": [
    "# QUESTION 2\n",
    "## Exploratory Data Analysis"
   ]
  },
  {
   "cell_type": "code",
   "execution_count": 166,
   "id": "2e581e60-f168-457e-9780-31aaa6cdae69",
   "metadata": {},
   "outputs": [],
   "source": [
    "#importing libraries(Pandas and Numpy)\n",
    "import pandas as pd\n",
    "import numpy as np"
   ]
  },
  {
   "cell_type": "code",
   "execution_count": 167,
   "id": "292b6e6a-8c06-4c3e-a932-53a78fcf4969",
   "metadata": {},
   "outputs": [
    {
     "data": {
      "text/html": [
       "<div>\n",
       "<style scoped>\n",
       "    .dataframe tbody tr th:only-of-type {\n",
       "        vertical-align: middle;\n",
       "    }\n",
       "\n",
       "    .dataframe tbody tr th {\n",
       "        vertical-align: top;\n",
       "    }\n",
       "\n",
       "    .dataframe thead th {\n",
       "        text-align: right;\n",
       "    }\n",
       "</style>\n",
       "<table border=\"1\" class=\"dataframe\">\n",
       "  <thead>\n",
       "    <tr style=\"text-align: right;\">\n",
       "      <th></th>\n",
       "      <th>StudentID</th>\n",
       "      <th>Gender</th>\n",
       "      <th>Age</th>\n",
       "      <th>StudyHoursPerWeek</th>\n",
       "      <th>AttendanceRate</th>\n",
       "      <th>GPA</th>\n",
       "      <th>Major</th>\n",
       "      <th>PartTimeJob</th>\n",
       "      <th>ExtraCurricularActivities</th>\n",
       "    </tr>\n",
       "  </thead>\n",
       "  <tbody>\n",
       "    <tr>\n",
       "      <th>0</th>\n",
       "      <td>1</td>\n",
       "      <td>Male</td>\n",
       "      <td>24</td>\n",
       "      <td>37</td>\n",
       "      <td>90.75</td>\n",
       "      <td>3.47</td>\n",
       "      <td>Arts</td>\n",
       "      <td>Yes</td>\n",
       "      <td>No</td>\n",
       "    </tr>\n",
       "    <tr>\n",
       "      <th>1</th>\n",
       "      <td>2</td>\n",
       "      <td>Female</td>\n",
       "      <td>22</td>\n",
       "      <td>37</td>\n",
       "      <td>74.90</td>\n",
       "      <td>2.32</td>\n",
       "      <td>Education</td>\n",
       "      <td>No</td>\n",
       "      <td>No</td>\n",
       "    </tr>\n",
       "    <tr>\n",
       "      <th>2</th>\n",
       "      <td>3</td>\n",
       "      <td>Male</td>\n",
       "      <td>22</td>\n",
       "      <td>10</td>\n",
       "      <td>53.36</td>\n",
       "      <td>2.38</td>\n",
       "      <td>Business</td>\n",
       "      <td>No</td>\n",
       "      <td>No</td>\n",
       "    </tr>\n",
       "    <tr>\n",
       "      <th>3</th>\n",
       "      <td>4</td>\n",
       "      <td>Male</td>\n",
       "      <td>24</td>\n",
       "      <td>10</td>\n",
       "      <td>70.26</td>\n",
       "      <td>3.46</td>\n",
       "      <td>Science</td>\n",
       "      <td>Yes</td>\n",
       "      <td>No</td>\n",
       "    </tr>\n",
       "    <tr>\n",
       "      <th>4</th>\n",
       "      <td>5</td>\n",
       "      <td>Male</td>\n",
       "      <td>18</td>\n",
       "      <td>19</td>\n",
       "      <td>74.87</td>\n",
       "      <td>2.31</td>\n",
       "      <td>Education</td>\n",
       "      <td>Yes</td>\n",
       "      <td>No</td>\n",
       "    </tr>\n",
       "    <tr>\n",
       "      <th>...</th>\n",
       "      <td>...</td>\n",
       "      <td>...</td>\n",
       "      <td>...</td>\n",
       "      <td>...</td>\n",
       "      <td>...</td>\n",
       "      <td>...</td>\n",
       "      <td>...</td>\n",
       "      <td>...</td>\n",
       "      <td>...</td>\n",
       "    </tr>\n",
       "    <tr>\n",
       "      <th>495</th>\n",
       "      <td>496</td>\n",
       "      <td>Male</td>\n",
       "      <td>22</td>\n",
       "      <td>37</td>\n",
       "      <td>76.61</td>\n",
       "      <td>2.97</td>\n",
       "      <td>Science</td>\n",
       "      <td>No</td>\n",
       "      <td>No</td>\n",
       "    </tr>\n",
       "    <tr>\n",
       "      <th>496</th>\n",
       "      <td>497</td>\n",
       "      <td>Male</td>\n",
       "      <td>23</td>\n",
       "      <td>11</td>\n",
       "      <td>56.29</td>\n",
       "      <td>3.20</td>\n",
       "      <td>Science</td>\n",
       "      <td>No</td>\n",
       "      <td>No</td>\n",
       "    </tr>\n",
       "    <tr>\n",
       "      <th>497</th>\n",
       "      <td>498</td>\n",
       "      <td>Female</td>\n",
       "      <td>20</td>\n",
       "      <td>6</td>\n",
       "      <td>56.64</td>\n",
       "      <td>3.20</td>\n",
       "      <td>Science</td>\n",
       "      <td>No</td>\n",
       "      <td>Yes</td>\n",
       "    </tr>\n",
       "    <tr>\n",
       "      <th>498</th>\n",
       "      <td>499</td>\n",
       "      <td>Male</td>\n",
       "      <td>22</td>\n",
       "      <td>18</td>\n",
       "      <td>57.18</td>\n",
       "      <td>2.05</td>\n",
       "      <td>Business</td>\n",
       "      <td>No</td>\n",
       "      <td>Yes</td>\n",
       "    </tr>\n",
       "    <tr>\n",
       "      <th>499</th>\n",
       "      <td>500</td>\n",
       "      <td>Female</td>\n",
       "      <td>24</td>\n",
       "      <td>21</td>\n",
       "      <td>96.99</td>\n",
       "      <td>2.64</td>\n",
       "      <td>Engineering</td>\n",
       "      <td>No</td>\n",
       "      <td>No</td>\n",
       "    </tr>\n",
       "  </tbody>\n",
       "</table>\n",
       "<p>500 rows × 9 columns</p>\n",
       "</div>"
      ],
      "text/plain": [
       "     StudentID  Gender  Age  StudyHoursPerWeek  AttendanceRate   GPA  \\\n",
       "0            1    Male   24                 37           90.75  3.47   \n",
       "1            2  Female   22                 37           74.90  2.32   \n",
       "2            3    Male   22                 10           53.36  2.38   \n",
       "3            4    Male   24                 10           70.26  3.46   \n",
       "4            5    Male   18                 19           74.87  2.31   \n",
       "..         ...     ...  ...                ...             ...   ...   \n",
       "495        496    Male   22                 37           76.61  2.97   \n",
       "496        497    Male   23                 11           56.29  3.20   \n",
       "497        498  Female   20                  6           56.64  3.20   \n",
       "498        499    Male   22                 18           57.18  2.05   \n",
       "499        500  Female   24                 21           96.99  2.64   \n",
       "\n",
       "           Major PartTimeJob ExtraCurricularActivities  \n",
       "0           Arts         Yes                        No  \n",
       "1      Education          No                        No  \n",
       "2       Business          No                        No  \n",
       "3        Science         Yes                        No  \n",
       "4      Education         Yes                        No  \n",
       "..           ...         ...                       ...  \n",
       "495      Science          No                        No  \n",
       "496      Science          No                        No  \n",
       "497      Science          No                       Yes  \n",
       "498     Business          No                       Yes  \n",
       "499  Engineering          No                        No  \n",
       "\n",
       "[500 rows x 9 columns]"
      ]
     },
     "execution_count": 167,
     "metadata": {},
     "output_type": "execute_result"
    }
   ],
   "source": [
    "# importing the students data set using pandas library\n",
    "student_df = pd.read_csv('student_performance_data.csv')\n",
    "student_df"
   ]
  },
  {
   "cell_type": "code",
   "execution_count": 168,
   "id": "a33697b1-e86a-47bc-8f1d-ea8ae3eb1eaf",
   "metadata": {},
   "outputs": [
    {
     "name": "stdout",
     "output_type": "stream",
     "text": [
      "<class 'pandas.core.frame.DataFrame'>\n",
      "RangeIndex: 500 entries, 0 to 499\n",
      "Data columns (total 9 columns):\n",
      " #   Column                     Non-Null Count  Dtype  \n",
      "---  ------                     --------------  -----  \n",
      " 0   StudentID                  500 non-null    int64  \n",
      " 1   Gender                     500 non-null    object \n",
      " 2   Age                        500 non-null    int64  \n",
      " 3   StudyHoursPerWeek          500 non-null    int64  \n",
      " 4   AttendanceRate             500 non-null    float64\n",
      " 5   GPA                        500 non-null    float64\n",
      " 6   Major                      500 non-null    object \n",
      " 7   PartTimeJob                500 non-null    object \n",
      " 8   ExtraCurricularActivities  500 non-null    object \n",
      "dtypes: float64(2), int64(3), object(4)\n",
      "memory usage: 35.3+ KB\n"
     ]
    }
   ],
   "source": [
    "student_df.info()"
   ]
  },
  {
   "cell_type": "code",
   "execution_count": 169,
   "id": "a2ddc5d5-6ac1-4a19-ac4a-6658b15f3f0a",
   "metadata": {},
   "outputs": [
    {
     "name": "stdout",
     "output_type": "stream",
     "text": [
      "   Gender        Major  StudyHoursPerWeek\n",
      "0  Female         Arts               1070\n",
      "1  Female     Business               1229\n",
      "2  Female    Education                818\n",
      "3  Female  Engineering               1196\n",
      "4  Female      Science                813\n",
      "5    Male         Arts                881\n",
      "6    Male     Business               1130\n",
      "7    Male    Education               1212\n",
      "8    Male  Engineering                929\n",
      "9    Male      Science                660\n"
     ]
    },
    {
     "data": {
      "text/html": [
       "<div>\n",
       "<style scoped>\n",
       "    .dataframe tbody tr th:only-of-type {\n",
       "        vertical-align: middle;\n",
       "    }\n",
       "\n",
       "    .dataframe tbody tr th {\n",
       "        vertical-align: top;\n",
       "    }\n",
       "\n",
       "    .dataframe thead th {\n",
       "        text-align: right;\n",
       "    }\n",
       "</style>\n",
       "<table border=\"1\" class=\"dataframe\">\n",
       "  <thead>\n",
       "    <tr style=\"text-align: right;\">\n",
       "      <th></th>\n",
       "      <th>Gender</th>\n",
       "      <th>Major</th>\n",
       "      <th>StudyHoursPerWeek</th>\n",
       "    </tr>\n",
       "  </thead>\n",
       "  <tbody>\n",
       "    <tr>\n",
       "      <th>1</th>\n",
       "      <td>Female</td>\n",
       "      <td>Business</td>\n",
       "      <td>1229</td>\n",
       "    </tr>\n",
       "    <tr>\n",
       "      <th>7</th>\n",
       "      <td>Male</td>\n",
       "      <td>Education</td>\n",
       "      <td>1212</td>\n",
       "    </tr>\n",
       "  </tbody>\n",
       "</table>\n",
       "</div>"
      ],
      "text/plain": [
       "   Gender      Major  StudyHoursPerWeek\n",
       "1  Female   Business               1229\n",
       "7    Male  Education               1212"
      ]
     },
     "execution_count": 169,
     "metadata": {},
     "output_type": "execute_result"
    }
   ],
   "source": [
    "# a)\n",
    "\n",
    "# Grouping each gender by total study hours per week\n",
    "grouped_by_gender = student_df.groupby(['Gender', 'Major'])['StudyHoursPerWeek'].sum().reset_index()\n",
    "#  .sum() aggregates the study hours.\n",
    "# .reset_index() is for\n",
    "print(grouped_by_gender)\n",
    "# printing the new grouped data and the output is each Gender displaying the Major and the total number od Study Hours the took to study\n",
    "\n",
    "# Getting the highest hours used to study\n",
    "highest_study_hours_grouped_by_gender = grouped_by_gender.loc[grouped_by_gender.groupby('Gender')['StudyHoursPerWeek'].idxmax()]\n",
    "# .loc is used to access data in a DataFrame using label-based indexing.\n",
    "# .idxmax() finds the index of the maximum value for each gender, so we can get the corresponding major.\n",
    "highest_study_hours_grouped_by_gender\n",
    "#Calling the variable name inorder to display output which is the Gender row having the Male and female columns, Major row and StudyHoursPerWeek showimg the highest values"
   ]
  },
  {
   "cell_type": "code",
   "execution_count": 170,
   "id": "d64ad11f-1565-4a7d-a137-a7a34a48bd2a",
   "metadata": {},
   "outputs": [],
   "source": [
    "# b)\n",
    "\n",
    "# grouping the data set  by gender and getting the mean\n",
    "grouped_by_gender = student_df.groupby('Gender') ['AttendanceRate'].mean()\n",
    "# # idxmax() finds the gender with the highest average, \n",
    "#.max() retrieves the highest value\n",
    "highest_attendance_gender = grouped_by_gender.idxmax()\n",
    "highest_attendance_rate = grouped_by_gender.max()"
   ]
  },
  {
   "cell_type": "code",
   "execution_count": 171,
   "id": "afa3515a-94ae-4635-bd52-1d2b856d76d4",
   "metadata": {},
   "outputs": [
    {
     "name": "stdout",
     "output_type": "stream",
     "text": [
      "PartTimeJob\n",
      "Yes    53.6\n",
      "No     46.4\n",
      "Name: proportion, dtype: float64\n"
     ]
    }
   ],
   "source": [
    "# c)  What percentage of students have part-time jobs, and what percentage have no part-time jobs? \n",
    "part_time_job_count =student_df['PartTimeJob'].value_counts(normalize=True) * 100\n",
    "# value_counts(normalize=True) counts the occurrences of each unique value (i.e., 'Yes' and 'No') and normalizes it to give a percentage.\n",
    "print(part_time_job_count)\n"
   ]
  },
  {
   "cell_type": "code",
   "execution_count": 172,
   "id": "20b244d2-6a7a-4284-ac77-560533a3782f",
   "metadata": {},
   "outputs": [
    {
     "data": {
      "text/html": [
       "<div>\n",
       "<style scoped>\n",
       "    .dataframe tbody tr th:only-of-type {\n",
       "        vertical-align: middle;\n",
       "    }\n",
       "\n",
       "    .dataframe tbody tr th {\n",
       "        vertical-align: top;\n",
       "    }\n",
       "\n",
       "    .dataframe thead th {\n",
       "        text-align: right;\n",
       "    }\n",
       "</style>\n",
       "<table border=\"1\" class=\"dataframe\">\n",
       "  <thead>\n",
       "    <tr style=\"text-align: right;\">\n",
       "      <th></th>\n",
       "      <th>GPA</th>\n",
       "      <th>Age</th>\n",
       "    </tr>\n",
       "    <tr>\n",
       "      <th>Gender</th>\n",
       "      <th></th>\n",
       "      <th></th>\n",
       "    </tr>\n",
       "  </thead>\n",
       "  <tbody>\n",
       "    <tr>\n",
       "      <th>Female</th>\n",
       "      <td>2.995352</td>\n",
       "      <td>4.005637</td>\n",
       "    </tr>\n",
       "    <tr>\n",
       "      <th>Male</th>\n",
       "      <td>2.974467</td>\n",
       "      <td>3.960130</td>\n",
       "    </tr>\n",
       "  </tbody>\n",
       "</table>\n",
       "</div>"
      ],
      "text/plain": [
       "             GPA       Age\n",
       "Gender                    \n",
       "Female  2.995352  4.005637\n",
       "Male    2.974467  3.960130"
      ]
     },
     "execution_count": 172,
     "metadata": {},
     "output_type": "execute_result"
    }
   ],
   "source": [
    "#d)\n",
    " #For each gender, what is the mean GPA and variance of age? \n",
    "gpa_and_age_stats_by_gender = student_df.groupby('Gender').agg({'GPA': 'mean', 'Age': 'var'})\n",
    "gpa_and_age_stats_by_gender\n",
    "# agg({'GPA': 'mean', 'Age': 'var'}) calculates the mean GPA and the variance of age.\n"
   ]
  },
  {
   "cell_type": "code",
   "execution_count": 173,
   "id": "7e47095b-528b-4587-ad6b-4792d84cbd77",
   "metadata": {},
   "outputs": [
    {
     "data": {
      "image/png": "[encoded data removed]",
      "text/plain": [
       "<Figure size 1000x600 with 1 Axes>"
      ]
     },
     "metadata": {},
     "output_type": "display_data"
    }
   ],
   "source": [
    "# e)  Create a visualization that effectively shows if there is a relationship between any two variables of your choice. \n",
    "#Your answer must be given in a single pipe.\n",
    "import matplotlib.pyplot as plt\n",
    "import seaborn as sns\n",
    "plt.figure(figsize=(10, 6))\n",
    "sns.scatterplot(x='StudyHoursPerWeek', y='GPA', data=student_df)\n",
    "plt.title('Relationship between Study Hours per Week and GPA')\n",
    "plt.xlabel('Study Hours per Week')\n",
    "plt.ylabel('GPA')\n",
    "plt.show()"
   ]
  },
  {
   "cell_type": "markdown",
   "id": "59a58bac-a4bb-4933-82d0-f1b770d19002",
   "metadata": {},
   "source": [
    "### Question 2 citations\n",
    "#### 1. Lecture resource. Notebook 03 Introduction to Pandas for grouping\n",
    "                                                       \n",
    "#### 2. Notebook 02 introduction to numpy for the sum and max\n",
    "    \n",
    "#### 3. Notebook 04 Introduction to matplot for visualizatiom"
   ]
  },
  {
   "cell_type": "code",
   "execution_count": null,
   "id": "849e36e3-93ae-4f89-a400-d74b6b6b379b",
   "metadata": {},
   "outputs": [],
   "source": []
  },
  {
   "cell_type": "markdown",
   "id": "6fdbc147-38fa-4201-8536-0f5695c86423",
   "metadata": {},
   "source": [
    "# QUSTION 3"
   ]
  },
  {
   "cell_type": "markdown",
   "id": "f2d4802d-1f4f-46e3-8bdb-5486788ad2ce",
   "metadata": {},
   "source": [
    "\n",
    "a) steps of fitting a linear regression in python\n",
    "\n",
    "Briefly describe the steps involved in fitting a linear regression in Python? \n",
    "\n",
    "1.Import the Libraries. \n",
    "        This involves importing the libraries to help solve the equation.\n",
    "        \n",
    "2. Import the DataSet \n",
    "        This involves importing the involved data set into the jupyter notebook\n",
    "   \n",
    "3. Check for any missing data points \n",
    "        This helps to reduce errors and if they are there then remove the missing values\n",
    "\n",
    "   \n",
    "4. Select Two columns\n",
    "        This helps to create the dependent and the independent variables inorder to allow us to split them.\n",
    "\n",
    "   \n",
    "5. Split the DataSet into two columns\n",
    "        Split them inorder to divide them to train and test\n",
    "\n",
    "6. Standardize the Features and Target Variable\n",
    "        We choose features  the independent variables (predictors), and the target variable . We use .fit_transform for both the x and the y\n",
    "   \n",
    "8. Train the Linear Regression Model\n",
    "         We use LinearRegression() from scikit-learn to create the model and fit it to the training data using .fit().\n",
    "\n",
    "   \n",
    "10.  Make Predictions\n",
    "            Getting the minmam and the maximum\n",
    "        \n",
    "11.  Inverse Transform the Predictions\n",
    "            Inverse reshape and then flatten\n",
    "12.  Evaluate the Model, and Plot\n",
    "        We evaluate the model using metrics such as Mean Squared Error (MSE) and R-squared\n",
    "\n",
    "14.  Plotting the Train and Test Data with the Linear Regression Line\n",
    "\n",
    "### citation: Notebook 06. Univariate linear regression"
   ]
  },
  {
   "cell_type": "markdown",
   "id": "d08aaca8-2722-42df-95b0-0f9081e800eb",
   "metadata": {},
   "source": [
    "b)  What assumptions does the linear regression take into consideration? \n",
    "\n",
    "1.Linearity\n",
    "\n",
    "2.Independence\n",
    "\n",
    "3. Normality\n",
    "   \n",
    "4.Homoscedasticity\n",
    "\n",
    "### citation: The last lecture during lecture time"
   ]
  },
  {
   "cell_type": "code",
   "execution_count": 189,
   "id": "c586dfa3-ceef-4436-afc7-3c379a4d3c8c",
   "metadata": {},
   "outputs": [],
   "source": [
    "#c)\n",
    "#importing the libraries \n",
    "import pandas as pd  \n",
    "import numpy as np  \n",
    "import matplotlib.pyplot as plt  \n",
    "from sklearn.model_selection import train_test_split  \n",
    "from sklearn.linear_model import LinearRegression  \n",
    "from sklearn.preprocessing import StandardScaler  \n",
    "from sklearn.metrics import mean_squared_error, r2_score,  mean_absolute_error\n",
    "from sklearn.metrics import mean_absolute_error, mean_squared_error "
   ]
  },
  {
   "cell_type": "code",
   "execution_count": 175,
   "id": "b5a7927d-e626-44fa-b07c-62b766be73b1",
   "metadata": {},
   "outputs": [
    {
     "name": "stdout",
     "output_type": "stream",
     "text": [
      "   Age     Sex           Marital_status  Number_of_children  Family_size  \\\n",
      "0   30    Male  Married, spouse present                   2            4   \n",
      "1   28  Female  Married, spouse present     1 child present            3   \n",
      "2   34    Male  Married, spouse present     1 child present            3   \n",
      "3   58  Female   Married, spouse absent     1 child present            2   \n",
      "4   39    Male     Never married/single  0 children present            1   \n",
      "\n",
      "                 Education-degree_recode  \\\n",
      "0      Masterâ€™s or professional degree   \n",
      "1      Masterâ€™s or professional degree   \n",
      "2                    Bachelorâ€™s degree   \n",
      "3  1 or more years of college, no degree   \n",
      "4                    Bachelorâ€™s degree   \n",
      "\n",
      "               Education-degree_recode 2  \\\n",
      "0          Master or professional degree   \n",
      "1          Master or professional degree   \n",
      "2                        Bachelor degree   \n",
      "3  1 or more years of college, no degree   \n",
      "4                        Bachelor degree   \n",
      "\n",
      "                               Education Race_ethnicity-multi_recode  \\\n",
      "0   Master or PhD or professional degree          Non-Hispanic White   \n",
      "1   Master or PhD or professional degree          Non-Hispanic White   \n",
      "2           Associate or Bachelor degree          Non-Hispanic White   \n",
      "3  1 or more years of college, no degree          Non-Hispanic White   \n",
      "4           Associate or Bachelor degree          Non-Hispanic White   \n",
      "\n",
      "   Immigrate-year                          Birthplace_recode  \\\n",
      "0               0  U.S. state, territory, or outlying region   \n",
      "1               0  U.S. state, territory, or outlying region   \n",
      "2               0  U.S. state, territory, or outlying region   \n",
      "3               0  U.S. state, territory, or outlying region   \n",
      "4               0  U.S. state, territory, or outlying region   \n",
      "\n",
      "             Speaks_English Employment_status  Income-wages Region_recode  \\\n",
      "0  Yes, speaks only English          Employed         63000         South   \n",
      "1  Yes, speaks only English          Employed         46000         South   \n",
      "2  Yes, speaks only English          Employed         45000         South   \n",
      "3  Yes, speaks only English          Employed         55000         South   \n",
      "4  Yes, speaks only English          Employed         12000         South   \n",
      "\n",
      "  Region-division_recode       Moved  Year      state  \n",
      "0     East South Central  Same house  2020  Tennessee  \n",
      "1     East South Central  Same house  2020  Tennessee  \n",
      "2     East South Central  Same house  2020  Tennessee  \n",
      "3     East South Central  Same house  2020  Tennessee  \n",
      "4     East South Central  Same house  2020  Tennessee  \n"
     ]
    }
   ],
   "source": [
    "#  Using the 2020 US Census dataset, train a simple linear regression predicting a continuous target variable using the scikit-learn library. \n",
    "# From the output coefficients, generate an equation representing the trained simple linear regression? \n",
    "\n",
    "# importing the data set\n",
    "# Had to install  openpyxl\n",
    "wages_df = pd.read_excel ('Wages 2020Census cleaned.xlsx')\n",
    "print (wages_df.head())\n",
    "\n",
    "# source:https://stackoverflow.com/questions/46599016/reading-xlsx-file-using-jupyter-notebook#comment80150546_46599016"
   ]
  },
  {
   "cell_type": "code",
   "execution_count": 195,
   "id": "a0036c84-c579-4b64-877d-773423d47258",
   "metadata": {},
   "outputs": [
    {
     "name": "stdout",
     "output_type": "stream",
     "text": [
      "<class 'pandas.core.frame.DataFrame'>\n",
      "RangeIndex: 4365 entries, 0 to 4364\n",
      "Data columns (total 19 columns):\n",
      " #   Column                       Non-Null Count  Dtype \n",
      "---  ------                       --------------  ----- \n",
      " 0   Age                          4365 non-null   int64 \n",
      " 1   Sex                          4365 non-null   object\n",
      " 2   Marital_status               4365 non-null   object\n",
      " 3   Number_of_children           4365 non-null   object\n",
      " 4   Family_size                  4365 non-null   int64 \n",
      " 5   Education-degree_recode      4365 non-null   object\n",
      " 6   Education-degree_recode 2    4365 non-null   object\n",
      " 7   Education                    4365 non-null   object\n",
      " 8   Race_ethnicity-multi_recode  4365 non-null   object\n",
      " 9   Immigrate-year               4365 non-null   int64 \n",
      " 10  Birthplace_recode            4365 non-null   object\n",
      " 11  Speaks_English               4365 non-null   object\n",
      " 12  Employment_status            4365 non-null   object\n",
      " 13  Income-wages                 4365 non-null   int64 \n",
      " 14  Region_recode                4365 non-null   object\n",
      " 15  Region-division_recode       4365 non-null   object\n",
      " 16  Moved                        4365 non-null   object\n",
      " 17  Year                         4365 non-null   int64 \n",
      " 18  state                        4365 non-null   object\n",
      "dtypes: int64(5), object(14)\n",
      "memory usage: 648.1+ KB\n"
     ]
    },
    {
     "data": {
      "text/plain": [
       "(4365, 19)"
      ]
     },
     "execution_count": 195,
     "metadata": {},
     "output_type": "execute_result"
    }
   ],
   "source": [
    "\n",
    "wages_df.info()\n",
    "wages_df.shape"
   ]
  },
  {
   "cell_type": "code",
   "execution_count": 193,
   "id": "e89b608f-4d8d-4d8c-b24e-959f88262e84",
   "metadata": {},
   "outputs": [
    {
     "data": {
      "text/plain": [
       "Age                            0\n",
       "Sex                            0\n",
       "Marital_status                 0\n",
       "Number_of_children             0\n",
       "Family_size                    0\n",
       "Education-degree_recode        0\n",
       "Education-degree_recode 2      0\n",
       "Education                      0\n",
       "Race_ethnicity-multi_recode    0\n",
       "Immigrate-year                 0\n",
       "Birthplace_recode              0\n",
       "Speaks_English                 0\n",
       "Employment_status              0\n",
       "Income-wages                   0\n",
       "Region_recode                  0\n",
       "Region-division_recode         0\n",
       "Moved                          0\n",
       "Year                           0\n",
       "state                          0\n",
       "dtype: int64"
      ]
     },
     "execution_count": 193,
     "metadata": {},
     "output_type": "execute_result"
    }
   ],
   "source": [
    "# checking for missing values\n",
    "wages_df.isna().sum()"
   ]
  },
  {
   "cell_type": "code",
   "execution_count": 177,
   "id": "b37c58c3-1c2e-4425-b079-831304307e3d",
   "metadata": {},
   "outputs": [],
   "source": [
    " # Let's assume the target variable is 'Income' and the predictor variable is 'Age' (you can change these)\n",
    "X = df[['Age']].values.reshape(-1,1)  # This is the predictor variable (it can be more than one column)\n",
    "y = df['Family_size'].values.reshape(-1,1)   # This is the continuous target variable\n",
    "\n"
   ]
  },
  {
   "cell_type": "code",
   "execution_count": 178,
   "id": "3c32c2f6-3774-43b4-904e-f9e4b8c3acbf",
   "metadata": {},
   "outputs": [
    {
     "data": {
      "text/plain": [
       "((3492, 1), (873, 1), (3492, 1), (873, 1))"
      ]
     },
     "execution_count": 178,
     "metadata": {},
     "output_type": "execute_result"
    }
   ],
   "source": [
    "# Split the data into training and testing sets (80% training, 20% testing)\n",
    "X_train, X_test, y_train, y_test = train_test_split(X, y, test_size=0.2, random_state=42)\n",
    "\n",
    "X_train.shape, X_test.shape, y_train.shape, y_test.shape"
   ]
  },
  {
   "cell_type": "code",
   "execution_count": 179,
   "id": "e06720f1-e184-48dc-9f6d-f83a06171a03",
   "metadata": {},
   "outputs": [
    {
     "data": {
      "text/plain": [
       "((3492, 1), (873, 1), (3492, 1), (873, 1))"
      ]
     },
     "execution_count": 179,
     "metadata": {},
     "output_type": "execute_result"
    }
   ],
   "source": [
    "# Standardizing\n",
    "X_scaler = StandardScaler()  \n",
    "y_scaler = StandardScaler()  \n",
    "\n",
    "X_train_scaled = X_scaler.fit_transform(X_train)  \n",
    "X_test_scaled = X_scaler.transform(X_test)  \n",
    "\n",
    "y_train_scaled = y_scaler.fit_transform(y_train) \n",
    "y_test_scaled = y_scaler.transform(y_test)\n",
    "\n",
    "y_train_scaled.shape, X_test_scaled.shape, y_train_scaled.shape, y_test_scaled.shape"
   ]
  },
  {
   "cell_type": "code",
   "execution_count": 180,
   "id": "0019d7cc-0228-4f3c-96c6-3aed146b369d",
   "metadata": {},
   "outputs": [],
   "source": [
    "# Initialize the Linear Regression model\n",
    "model = LinearRegression()\n",
    "\n"
   ]
  },
  {
   "cell_type": "code",
   "execution_count": 181,
   "id": "36c69446-d244-4699-ae9e-b338f7dbbd91",
   "metadata": {},
   "outputs": [
    {
     "data": {
      "text/html": [
       "<style>#sk-container-id-7 {\n",
       "  /* Definition of color scheme common for light and dark mode */\n",
       "  --sklearn-color-text: black;\n",
       "  --sklearn-color-line: gray;\n",
       "  /* Definition of color scheme for unfitted estimators */\n",
       "  --sklearn-color-unfitted-level-0: #fff5e6;\n",
       "  --sklearn-color-unfitted-level-1: #f6e4d2;\n",
       "  --sklearn-color-unfitted-level-2: #ffe0b3;\n",
       "  --sklearn-color-unfitted-level-3: chocolate;\n",
       "  /* Definition of color scheme for fitted estimators */\n",
       "  --sklearn-color-fitted-level-0: #f0f8ff;\n",
       "  --sklearn-color-fitted-level-1: #d4ebff;\n",
       "  --sklearn-color-fitted-level-2: #b3dbfd;\n",
       "  --sklearn-color-fitted-level-3: cornflowerblue;\n",
       "\n",
       "  /* Specific color for light theme */\n",
       "  --sklearn-color-text-on-default-background: var(--sg-text-color, var(--theme-code-foreground, var(--jp-content-font-color1, black)));\n",
       "  --sklearn-color-background: var(--sg-background-color, var(--theme-background, var(--jp-layout-color0, white)));\n",
       "  --sklearn-color-border-box: var(--sg-text-color, var(--theme-code-foreground, var(--jp-content-font-color1, black)));\n",
       "  --sklearn-color-icon: #696969;\n",
       "\n",
       "  @media (prefers-color-scheme: dark) {\n",
       "    /* Redefinition of color scheme for dark theme */\n",
       "    --sklearn-color-text-on-default-background: var(--sg-text-color, var(--theme-code-foreground, var(--jp-content-font-color1, white)));\n",
       "    --sklearn-color-background: var(--sg-background-color, var(--theme-background, var(--jp-layout-color0, #111)));\n",
       "    --sklearn-color-border-box: var(--sg-text-color, var(--theme-code-foreground, var(--jp-content-font-color1, white)));\n",
       "    --sklearn-color-icon: #878787;\n",
       "  }\n",
       "}\n",
       "\n",
       "#sk-container-id-7 {\n",
       "  color: var(--sklearn-color-text);\n",
       "}\n",
       "\n",
       "#sk-container-id-7 pre {\n",
       "  padding: 0;\n",
       "}\n",
       "\n",
       "#sk-container-id-7 input.sk-hidden--visually {\n",
       "  border: 0;\n",
       "  clip: rect(1px 1px 1px 1px);\n",
       "  clip: rect(1px, 1px, 1px, 1px);\n",
       "  height: 1px;\n",
       "  margin: -1px;\n",
       "  overflow: hidden;\n",
       "  padding: 0;\n",
       "  position: absolute;\n",
       "  width: 1px;\n",
       "}\n",
       "\n",
       "#sk-container-id-7 div.sk-dashed-wrapped {\n",
       "  border: 1px dashed var(--sklearn-color-line);\n",
       "  margin: 0 0.4em 0.5em 0.4em;\n",
       "  box-sizing: border-box;\n",
       "  padding-bottom: 0.4em;\n",
       "  background-color: var(--sklearn-color-background);\n",
       "}\n",
       "\n",
       "#sk-container-id-7 div.sk-container {\n",
       "  /* jupyter's `normalize.less` sets `[hidden] { display: none; }`\n",
       "     but bootstrap.min.css set `[hidden] { display: none !important; }`\n",
       "     so we also need the `!important` here to be able to override the\n",
       "     default hidden behavior on the sphinx rendered scikit-learn.org.\n",
       "     See: https://github.com/scikit-learn/scikit-learn/issues/21755 */\n",
       "  display: inline-block !important;\n",
       "  position: relative;\n",
       "}\n",
       "\n",
       "#sk-container-id-7 div.sk-text-repr-fallback {\n",
       "  display: none;\n",
       "}\n",
       "\n",
       "div.sk-parallel-item,\n",
       "div.sk-serial,\n",
       "div.sk-item {\n",
       "  /* draw centered vertical line to link estimators */\n",
       "  background-image: linear-gradient(var(--sklearn-color-text-on-default-background), var(--sklearn-color-text-on-default-background));\n",
       "  background-size: 2px 100%;\n",
       "  background-repeat: no-repeat;\n",
       "  background-position: center center;\n",
       "}\n",
       "\n",
       "/* Parallel-specific style estimator block */\n",
       "\n",
       "#sk-container-id-7 div.sk-parallel-item::after {\n",
       "  content: \"\";\n",
       "  width: 100%;\n",
       "  border-bottom: 2px solid var(--sklearn-color-text-on-default-background);\n",
       "  flex-grow: 1;\n",
       "}\n",
       "\n",
       "#sk-container-id-7 div.sk-parallel {\n",
       "  display: flex;\n",
       "  align-items: stretch;\n",
       "  justify-content: center;\n",
       "  background-color: var(--sklearn-color-background);\n",
       "  position: relative;\n",
       "}\n",
       "\n",
       "#sk-container-id-7 div.sk-parallel-item {\n",
       "  display: flex;\n",
       "  flex-direction: column;\n",
       "}\n",
       "\n",
       "#sk-container-id-7 div.sk-parallel-item:first-child::after {\n",
       "  align-self: flex-end;\n",
       "  width: 50%;\n",
       "}\n",
       "\n",
       "#sk-container-id-7 div.sk-parallel-item:last-child::after {\n",
       "  align-self: flex-start;\n",
       "  width: 50%;\n",
       "}\n",
       "\n",
       "#sk-container-id-7 div.sk-parallel-item:only-child::after {\n",
       "  width: 0;\n",
       "}\n",
       "\n",
       "/* Serial-specific style estimator block */\n",
       "\n",
       "#sk-container-id-7 div.sk-serial {\n",
       "  display: flex;\n",
       "  flex-direction: column;\n",
       "  align-items: center;\n",
       "  background-color: var(--sklearn-color-background);\n",
       "  padding-right: 1em;\n",
       "  padding-left: 1em;\n",
       "}\n",
       "\n",
       "\n",
       "/* Toggleable style: style used for estimator/Pipeline/ColumnTransformer box that is\n",
       "clickable and can be expanded/collapsed.\n",
       "- Pipeline and ColumnTransformer use this feature and define the default style\n",
       "- Estimators will overwrite some part of the style using the `sk-estimator` class\n",
       "*/\n",
       "\n",
       "/* Pipeline and ColumnTransformer style (default) */\n",
       "\n",
       "#sk-container-id-7 div.sk-toggleable {\n",
       "  /* Default theme specific background. It is overwritten whether we have a\n",
       "  specific estimator or a Pipeline/ColumnTransformer */\n",
       "  background-color: var(--sklearn-color-background);\n",
       "}\n",
       "\n",
       "/* Toggleable label */\n",
       "#sk-container-id-7 label.sk-toggleable__label {\n",
       "  cursor: pointer;\n",
       "  display: block;\n",
       "  width: 100%;\n",
       "  margin-bottom: 0;\n",
       "  padding: 0.5em;\n",
       "  box-sizing: border-box;\n",
       "  text-align: center;\n",
       "}\n",
       "\n",
       "#sk-container-id-7 label.sk-toggleable__label-arrow:before {\n",
       "  /* Arrow on the left of the label */\n",
       "  content: \"▸\";\n",
       "  float: left;\n",
       "  margin-right: 0.25em;\n",
       "  color: var(--sklearn-color-icon);\n",
       "}\n",
       "\n",
       "#sk-container-id-7 label.sk-toggleable__label-arrow:hover:before {\n",
       "  color: var(--sklearn-color-text);\n",
       "}\n",
       "\n",
       "/* Toggleable content - dropdown */\n",
       "\n",
       "#sk-container-id-7 div.sk-toggleable__content {\n",
       "  max-height: 0;\n",
       "  max-width: 0;\n",
       "  overflow: hidden;\n",
       "  text-align: left;\n",
       "  /* unfitted */\n",
       "  background-color: var(--sklearn-color-unfitted-level-0);\n",
       "}\n",
       "\n",
       "#sk-container-id-7 div.sk-toggleable__content.fitted {\n",
       "  /* fitted */\n",
       "  background-color: var(--sklearn-color-fitted-level-0);\n",
       "}\n",
       "\n",
       "#sk-container-id-7 div.sk-toggleable__content pre {\n",
       "  margin: 0.2em;\n",
       "  border-radius: 0.25em;\n",
       "  color: var(--sklearn-color-text);\n",
       "  /* unfitted */\n",
       "  background-color: var(--sklearn-color-unfitted-level-0);\n",
       "}\n",
       "\n",
       "#sk-container-id-7 div.sk-toggleable__content.fitted pre {\n",
       "  /* unfitted */\n",
       "  background-color: var(--sklearn-color-fitted-level-0);\n",
       "}\n",
       "\n",
       "#sk-container-id-7 input.sk-toggleable__control:checked~div.sk-toggleable__content {\n",
       "  /* Expand drop-down */\n",
       "  max-height: 200px;\n",
       "  max-width: 100%;\n",
       "  overflow: auto;\n",
       "}\n",
       "\n",
       "#sk-container-id-7 input.sk-toggleable__control:checked~label.sk-toggleable__label-arrow:before {\n",
       "  content: \"▾\";\n",
       "}\n",
       "\n",
       "/* Pipeline/ColumnTransformer-specific style */\n",
       "\n",
       "#sk-container-id-7 div.sk-label input.sk-toggleable__control:checked~label.sk-toggleable__label {\n",
       "  color: var(--sklearn-color-text);\n",
       "  background-color: var(--sklearn-color-unfitted-level-2);\n",
       "}\n",
       "\n",
       "#sk-container-id-7 div.sk-label.fitted input.sk-toggleable__control:checked~label.sk-toggleable__label {\n",
       "  background-color: var(--sklearn-color-fitted-level-2);\n",
       "}\n",
       "\n",
       "/* Estimator-specific style */\n",
       "\n",
       "/* Colorize estimator box */\n",
       "#sk-container-id-7 div.sk-estimator input.sk-toggleable__control:checked~label.sk-toggleable__label {\n",
       "  /* unfitted */\n",
       "  background-color: var(--sklearn-color-unfitted-level-2);\n",
       "}\n",
       "\n",
       "#sk-container-id-7 div.sk-estimator.fitted input.sk-toggleable__control:checked~label.sk-toggleable__label {\n",
       "  /* fitted */\n",
       "  background-color: var(--sklearn-color-fitted-level-2);\n",
       "}\n",
       "\n",
       "#sk-container-id-7 div.sk-label label.sk-toggleable__label,\n",
       "#sk-container-id-7 div.sk-label label {\n",
       "  /* The background is the default theme color */\n",
       "  color: var(--sklearn-color-text-on-default-background);\n",
       "}\n",
       "\n",
       "/* On hover, darken the color of the background */\n",
       "#sk-container-id-7 div.sk-label:hover label.sk-toggleable__label {\n",
       "  color: var(--sklearn-color-text);\n",
       "  background-color: var(--sklearn-color-unfitted-level-2);\n",
       "}\n",
       "\n",
       "/* Label box, darken color on hover, fitted */\n",
       "#sk-container-id-7 div.sk-label.fitted:hover label.sk-toggleable__label.fitted {\n",
       "  color: var(--sklearn-color-text);\n",
       "  background-color: var(--sklearn-color-fitted-level-2);\n",
       "}\n",
       "\n",
       "/* Estimator label */\n",
       "\n",
       "#sk-container-id-7 div.sk-label label {\n",
       "  font-family: monospace;\n",
       "  font-weight: bold;\n",
       "  display: inline-block;\n",
       "  line-height: 1.2em;\n",
       "}\n",
       "\n",
       "#sk-container-id-7 div.sk-label-container {\n",
       "  text-align: center;\n",
       "}\n",
       "\n",
       "/* Estimator-specific */\n",
       "#sk-container-id-7 div.sk-estimator {\n",
       "  font-family: monospace;\n",
       "  border: 1px dotted var(--sklearn-color-border-box);\n",
       "  border-radius: 0.25em;\n",
       "  box-sizing: border-box;\n",
       "  margin-bottom: 0.5em;\n",
       "  /* unfitted */\n",
       "  background-color: var(--sklearn-color-unfitted-level-0);\n",
       "}\n",
       "\n",
       "#sk-container-id-7 div.sk-estimator.fitted {\n",
       "  /* fitted */\n",
       "  background-color: var(--sklearn-color-fitted-level-0);\n",
       "}\n",
       "\n",
       "/* on hover */\n",
       "#sk-container-id-7 div.sk-estimator:hover {\n",
       "  /* unfitted */\n",
       "  background-color: var(--sklearn-color-unfitted-level-2);\n",
       "}\n",
       "\n",
       "#sk-container-id-7 div.sk-estimator.fitted:hover {\n",
       "  /* fitted */\n",
       "  background-color: var(--sklearn-color-fitted-level-2);\n",
       "}\n",
       "\n",
       "/* Specification for estimator info (e.g. \"i\" and \"?\") */\n",
       "\n",
       "/* Common style for \"i\" and \"?\" */\n",
       "\n",
       ".sk-estimator-doc-link,\n",
       "a:link.sk-estimator-doc-link,\n",
       "a:visited.sk-estimator-doc-link {\n",
       "  float: right;\n",
       "  font-size: smaller;\n",
       "  line-height: 1em;\n",
       "  font-family: monospace;\n",
       "  background-color: var(--sklearn-color-background);\n",
       "  border-radius: 1em;\n",
       "  height: 1em;\n",
       "  width: 1em;\n",
       "  text-decoration: none !important;\n",
       "  margin-left: 1ex;\n",
       "  /* unfitted */\n",
       "  border: var(--sklearn-color-unfitted-level-1) 1pt solid;\n",
       "  color: var(--sklearn-color-unfitted-level-1);\n",
       "}\n",
       "\n",
       ".sk-estimator-doc-link.fitted,\n",
       "a:link.sk-estimator-doc-link.fitted,\n",
       "a:visited.sk-estimator-doc-link.fitted {\n",
       "  /* fitted */\n",
       "  border: var(--sklearn-color-fitted-level-1) 1pt solid;\n",
       "  color: var(--sklearn-color-fitted-level-1);\n",
       "}\n",
       "\n",
       "/* On hover */\n",
       "div.sk-estimator:hover .sk-estimator-doc-link:hover,\n",
       ".sk-estimator-doc-link:hover,\n",
       "div.sk-label-container:hover .sk-estimator-doc-link:hover,\n",
       ".sk-estimator-doc-link:hover {\n",
       "  /* unfitted */\n",
       "  background-color: var(--sklearn-color-unfitted-level-3);\n",
       "  color: var(--sklearn-color-background);\n",
       "  text-decoration: none;\n",
       "}\n",
       "\n",
       "div.sk-estimator.fitted:hover .sk-estimator-doc-link.fitted:hover,\n",
       ".sk-estimator-doc-link.fitted:hover,\n",
       "div.sk-label-container:hover .sk-estimator-doc-link.fitted:hover,\n",
       ".sk-estimator-doc-link.fitted:hover {\n",
       "  /* fitted */\n",
       "  background-color: var(--sklearn-color-fitted-level-3);\n",
       "  color: var(--sklearn-color-background);\n",
       "  text-decoration: none;\n",
       "}\n",
       "\n",
       "/* Span, style for the box shown on hovering the info icon */\n",
       ".sk-estimator-doc-link span {\n",
       "  display: none;\n",
       "  z-index: 9999;\n",
       "  position: relative;\n",
       "  font-weight: normal;\n",
       "  right: .2ex;\n",
       "  padding: .5ex;\n",
       "  margin: .5ex;\n",
       "  width: min-content;\n",
       "  min-width: 20ex;\n",
       "  max-width: 50ex;\n",
       "  color: var(--sklearn-color-text);\n",
       "  box-shadow: 2pt 2pt 4pt #999;\n",
       "  /* unfitted */\n",
       "  background: var(--sklearn-color-unfitted-level-0);\n",
       "  border: .5pt solid var(--sklearn-color-unfitted-level-3);\n",
       "}\n",
       "\n",
       ".sk-estimator-doc-link.fitted span {\n",
       "  /* fitted */\n",
       "  background: var(--sklearn-color-fitted-level-0);\n",
       "  border: var(--sklearn-color-fitted-level-3);\n",
       "}\n",
       "\n",
       ".sk-estimator-doc-link:hover span {\n",
       "  display: block;\n",
       "}\n",
       "\n",
       "/* \"?\"-specific style due to the `<a>` HTML tag */\n",
       "\n",
       "#sk-container-id-7 a.estimator_doc_link {\n",
       "  float: right;\n",
       "  font-size: 1rem;\n",
       "  line-height: 1em;\n",
       "  font-family: monospace;\n",
       "  background-color: var(--sklearn-color-background);\n",
       "  border-radius: 1rem;\n",
       "  height: 1rem;\n",
       "  width: 1rem;\n",
       "  text-decoration: none;\n",
       "  /* unfitted */\n",
       "  color: var(--sklearn-color-unfitted-level-1);\n",
       "  border: var(--sklearn-color-unfitted-level-1) 1pt solid;\n",
       "}\n",
       "\n",
       "#sk-container-id-7 a.estimator_doc_link.fitted {\n",
       "  /* fitted */\n",
       "  border: var(--sklearn-color-fitted-level-1) 1pt solid;\n",
       "  color: var(--sklearn-color-fitted-level-1);\n",
       "}\n",
       "\n",
       "/* On hover */\n",
       "#sk-container-id-7 a.estimator_doc_link:hover {\n",
       "  /* unfitted */\n",
       "  background-color: var(--sklearn-color-unfitted-level-3);\n",
       "  color: var(--sklearn-color-background);\n",
       "  text-decoration: none;\n",
       "}\n",
       "\n",
       "#sk-container-id-7 a.estimator_doc_link.fitted:hover {\n",
       "  /* fitted */\n",
       "  background-color: var(--sklearn-color-fitted-level-3);\n",
       "}\n",
       "</style><div id=\"sk-container-id-7\" class=\"sk-top-container\"><div class=\"sk-text-repr-fallback\"><pre>LinearRegression()</pre><b>In a Jupyter environment, please rerun this cell to show the HTML representation or trust the notebook. <br />On GitHub, the HTML representation is unable to render, please try loading this page with nbviewer.org.</b></div><div class=\"sk-container\" hidden><div class=\"sk-item\"><div class=\"sk-estimator fitted sk-toggleable\"><input class=\"sk-toggleable__control sk-hidden--visually\" id=\"sk-estimator-id-7\" type=\"checkbox\" checked><label for=\"sk-estimator-id-7\" class=\"sk-toggleable__label fitted sk-toggleable__label-arrow fitted\">&nbsp;&nbsp;LinearRegression<a class=\"sk-estimator-doc-link fitted\" rel=\"noreferrer\" target=\"_blank\" href=\"https://scikit-learn.org/1.5/modules/generated/sklearn.linear_model.LinearRegression.html\">?<span>Documentation for LinearRegression</span></a><span class=\"sk-estimator-doc-link fitted\">i<span>Fitted</span></span></label><div class=\"sk-toggleable__content fitted\"><pre>LinearRegression()</pre></div> </div></div></div></div>"
      ],
      "text/plain": [
       "LinearRegression()"
      ]
     },
     "execution_count": 181,
     "metadata": {},
     "output_type": "execute_result"
    }
   ],
   "source": [
    "# Train the model\n",
    "model.fit(X_train, y_train)\n",
    " \n"
   ]
  },
  {
   "cell_type": "code",
   "execution_count": 182,
   "id": "df95d24c-4db8-4b86-97fa-7671024213d1",
   "metadata": {},
   "outputs": [
    {
     "data": {
      "text/plain": [
       "(np.float64(2.0890806839330383), np.float64(3.510672835671705))"
      ]
     },
     "execution_count": 182,
     "metadata": {},
     "output_type": "execute_result"
    }
   ],
   "source": [
    "# predicting \n",
    "y_pred_train_scaled = model.predict(X_train)  \n",
    "y_pred_test_scaled = model.predict(X_test)  \n",
    "\n",
    "y_pred_train_scaled.min(), y_pred_train_scaled.max()"
   ]
  },
  {
   "cell_type": "code",
   "execution_count": 183,
   "id": "48a9e353-a0bc-4104-af0b-407a2a7042aa",
   "metadata": {},
   "outputs": [
    {
     "data": {
      "text/plain": [
       "(np.float64(6.374980603196887), np.float64(8.673754447312701))"
      ]
     },
     "execution_count": 183,
     "metadata": {},
     "output_type": "execute_result"
    }
   ],
   "source": [
    "y_pred_train = y_scaler.inverse_transform(y_pred_train_scaled.reshape(-1, 1)).flatten()  \n",
    "y_pred_test = y_scaler.inverse_transform(y_pred_test_scaled.reshape(-1, 1)).flatten()  \n",
    "\n",
    "y_pred_train.min(), y_pred_train.max()"
   ]
  },
  {
   "cell_type": "code",
   "execution_count": 184,
   "id": "7df9c3a9-a5c6-438b-811a-1b04e128c236",
   "metadata": {},
   "outputs": [],
   "source": [
    "# Get the coefficients and intercept\n",
    "coef = model.coef_[0]\n",
    "intercept = model.intercept_\n",
    "\n"
   ]
  },
  {
   "cell_type": "code",
   "execution_count": 185,
   "id": "aa2ba8ef-4536-40fd-82a3-fea412f42146",
   "metadata": {},
   "outputs": [
    {
     "name": "stdout",
     "output_type": "stream",
     "text": [
      "Linear Regression Equation: y = [3.83103163] + [-0.02002242] * X\n"
     ]
    }
   ],
   "source": [
    "# Output the linear regression equation\n",
    "print(f\"Linear Regression Equation: y = {intercept:} + {coef:} * X\")"
   ]
  },
  {
   "cell_type": "code",
   "execution_count": 186,
   "id": "fab306ed-7e3e-44e4-869c-098a2c53796b",
   "metadata": {},
   "outputs": [
    {
     "name": "stdout",
     "output_type": "stream",
     "text": [
      "Training Mean Squared Error: 26.048578332317422\n",
      "\n",
      "Testing Mean Squared Error: 27.418178489043143\n",
      "\n",
      "Training Mean Absolute Error: 4.8707924119506485\n",
      "\n",
      "Testing Mean Absolute Error: 5.026051504491042\n",
      "\n",
      "Training R² Score: -8.96188596233459\n",
      "\n",
      "Testing R² Score: -10.550777942324\n"
     ]
    }
   ],
   "source": [
    "#d) Compute the Mean Absolute Error (MSE) from your model\n",
    "mse_train = mean_squared_error(y_train, y_pred_train)  \n",
    "mse_test = mean_squared_error(y_test, y_pred_test)  \n",
    "\n",
    "mae_train = mean_absolute_error(y_train, y_pred_train)  \n",
    "mae_test = mean_absolute_error(y_test, y_pred_test)  \n",
    "\n",
    "r2_train = r2_score(y_train, y_pred_train)  \n",
    "r2_test = r2_score(y_test, y_pred_test)  \n",
    "\n",
    "print(\"Training Mean Squared Error:\", mse_train)  \n",
    "  \n",
    "print()\n",
    "print(\"Testing Mean Squared Error:\", mse_test)  \n",
    "print()\n",
    "print(\"Training Mean Absolute Error:\", mae_train)  \n",
    "  \n",
    "print()\n",
    "print(\"Testing Mean Absolute Error:\", mae_test)  \n",
    "print()\n",
    "print(\"Training R² Score:\", r2_train)  \n",
    "print()\n",
    "print(\"Testing R² Score:\", r2_test)  \n",
    "\n",
    "# source:https://stackoverflow.com/questions/66426928/how-to-calculate-mean-absolute-error-mae-and-mean-signed-error-mse-using-pan"
   ]
  },
  {
   "cell_type": "code",
   "execution_count": null,
   "id": "d11240e5-3003-45a4-950d-5eb5c7a7dbf1",
   "metadata": {},
   "outputs": [],
   "source": []
  },
  {
   "cell_type": "code",
   "execution_count": 187,
   "id": "53ce1036-0094-44a0-b9ba-4947d215fc94",
   "metadata": {},
   "outputs": [
    {
     "name": "stdout",
     "output_type": "stream",
     "text": [
      "Coefficients: [-0.02002242]\n",
      "Intercept: [3.83103163]\n",
      "R-squared: 0.00890785992399068\n",
      "Mean Absolute Error (MAE): 1.2362431932728386\n",
      "Mean Squared Error (MSE): 2.35256372612981\n"
     ]
    }
   ],
   "source": [
    "# e) Extract and interprete the key outputs from a linear regression model \n",
    "\n",
    "coefficients = model.coef_\n",
    "intercept = model.intercept_\n",
    "\n",
    "# R-squared value\n",
    "r2 = model.score(X_test, y_test)\n",
    "\n",
    "# Make predictions on the test set\n",
    "y_pred = model.predict(X_test)\n",
    "\n",
    "# Mean Absolute Error (MAE) and Mean Squared Error (MSE)\n",
    "mae = mean_absolute_error(y_test, y_pred)\n",
    "mse = mean_squared_error(y_test, y_pred)\n",
    "\n",
    "# Print the outputs\n",
    "print(f\"Coefficients: {coef}\")\n",
    "print(f\"Intercept: {intercept}\")\n",
    "print(f\"R-squared: {r2}\")\n",
    "print(f\"Mean Absolute Error (MAE): {mae}\")\n",
    "print(f\"Mean Squared Error (MSE): {mse}\")\n",
    "\n",
    "#source: https://stackoverflow.com/questions/66055044/how-to-extract-the-coefficients-of-a-linear-model-and-store-in-a-variable\n",
    "        #lecture resources 06.univariate_linear_regression"
   ]
  },
  {
   "cell_type": "code",
   "execution_count": 188,
   "id": "087b290e-6115-46c4-b1f1-d5222ab6ced9",
   "metadata": {},
   "outputs": [
    {
     "data": {
      "image/png": "[encoded data removed]",
      "text/plain": [
       "<Figure size 1200x600 with 1 Axes>"
      ]
     },
     "metadata": {},
     "output_type": "display_data"
    }
   ],
   "source": [
    "# f)\n",
    "#Plot the linear regression model\n",
    "plt.figure(figsize=(12, 6))  \n",
    "\n",
    "# Scatter Plot for Training and Testing Data  \n",
    "plt.scatter(X_train, y_train, color='blue', label='Training Data', alpha=0.7)   \n",
    "plt.scatter(X_test, y_test, color='orange', label='Testing Data', alpha=0.7)  \n",
    "\n",
    "# Plotting the regression line  \n",
    "X_line = np.linspace(X_train.min(), X_train.max(), 100).reshape(-1, 1)  \n",
    "X_line_scaled = X_scaler.transform(X_line)  # Scale the line input  \n",
    "y_line_scaled = model.predict(X_line_scaled)  # Predict the output  \n",
    "y_line = y_scaler.inverse_transform(y_line_scaled.reshape(-1, 1)).flatten()  # Inverse transform to original scale  \n",
    "\n",
    "plt.plot(X_line, y_line, color='red', label='Regression Line', linewidth=2)  \n",
    "\n",
    "# Add titles and labels  \n",
    "plt.title('Linear Regression with StandardScaler on Features and Target Variable')  \n",
    "plt.xlabel('Family Size')  \n",
    "plt.ylabel('Age')  \n",
    "plt.legend()  \n",
    "plt.grid()  \n",
    "plt.show()  \n",
    "\n",
    "#source: lecture resources 06 univariate linear regrssion"
   ]
  },
  {
   "cell_type": "markdown",
   "id": "e983c33f-2425-44e9-b82c-303f98488f8a",
   "metadata": {},
   "source": [
    "### citation summary for question 3c,d,e,f: \n",
    "#### source:https://stackoverflow.com/questions/66426928/how-to-calculate-mean-absolute-error-mae-and-mean-signed-error-mse-using-pan\n",
    "#### source: https://stackoverflow.com/questions/66055044/how-to-extract-the-coefficients-of-a-linear-model-and-store-in-a-variable\n",
    "#### lecture resources 06.univariate_linear_regression"
   ]
  },
  {
   "cell_type": "code",
   "execution_count": null,
   "id": "4fccf5b6-b5cc-45ba-8242-91b370137ae7",
   "metadata": {},
   "outputs": [],
   "source": []
  },
  {
   "cell_type": "markdown",
   "id": "4bcc7d49-8798-4891-bea3-7ea30867585b",
   "metadata": {},
   "source": [
    "# Bonus number"
   ]
  },
  {
   "cell_type": "code",
   "execution_count": 223,
   "id": "3f84259e-a370-4fa5-9544-06edbbbd05c7",
   "metadata": {},
   "outputs": [],
   "source": [
    "# Given data\n",
    "A = 8  # Textbooks with compilers\n",
    "B = 13  # Textbooks with data structures\n",
    "C = 13  # Textbooks with operating systems\n",
    "A_and_B = 5  # Textbooks with both compilers and data structures\n",
    "A_and_C = 3  # Textbooks with both compilers and operating systems\n",
    "B_and_C = 6  # Textbooks with both data structures and operating systems\n",
    "A_and_B_and_C = 2  # Textbooks with all three topics\n",
    "\n",
    "\n"
   ]
  },
  {
   "cell_type": "code",
   "execution_count": 228,
   "id": "cbd84d6a-e059-4924-88f2-c9c9487a7342",
   "metadata": {},
   "outputs": [
    {
     "name": "stdout",
     "output_type": "stream",
     "text": [
      "Textbooks with exactly one topic: 12\n"
     ]
    }
   ],
   "source": [
    "# (a) Textbooks that include material on exactly one of these topics\n",
    "only_A = A - A_and_B - A_and_C + A_and_B_and_C  # Textbooks with only compilers\n",
    "only_B = B - A_and_B - B_and_C + A_and_B_and_C  # Textbooks with only data structures\n",
    "only_C = C - A_and_C - B_and_C + A_and_B_and_C  # Textbooks with only operating systems\n",
    "# Total number of textbooks that include material on exactly one topic\n",
    "exactly_one = only_A + only_B + only_C\n",
    "print(\"Textbooks with exactly one topic:\", exactly_one)\n"
   ]
  },
  {
   "cell_type": "code",
   "execution_count": 229,
   "id": "3cd5505c-30da-4174-9723-2cb0d4f0168c",
   "metadata": {},
   "outputs": [
    {
     "name": "stdout",
     "output_type": "stream",
     "text": [
      "Textbooks with no topics: 2\n"
     ]
    }
   ],
   "source": [
    "\n",
    "# (b) Textbooks that do not deal with any of the topics\n",
    "total_textbooks = 24\n",
    "at_least_one = A + B + C - A_and_B - A_and_C - B_and_C + A_and_B_and_C  # Textbooks with at least one topic\n",
    "no_topics = total_textbooks - at_least_one\n",
    "print(\"Textbooks with no topics:\", no_topics)\n"
   ]
  },
  {
   "cell_type": "code",
   "execution_count": 227,
   "id": "c5ec7e13-401f-47be-aab8-9d121dfee2b4",
   "metadata": {},
   "outputs": [
    {
     "name": "stdout",
     "output_type": "stream",
     "text": [
      "Textbooks with exactly one topic: 12\n",
      "Textbooks with no topics: 2\n",
      "Textbooks with no compilers: 4\n"
     ]
    }
   ],
   "source": [
    "# (c) Textbooks that have no material on compilers\n",
    "B_or_C = B + C - B_and_C  # Textbooks with either data structures or operating systems (no compilers)\n",
    "no_compilers = total_textbooks - B_or_C\n",
    "# Output the results\n",
    "print(\"Textbooks with exactly one topic:\", exactly_one)\n",
    "print(\"Textbooks with no topics:\", no_topics)\n",
    "print(\"Textbooks with no compilers:\", no_compilers)"
   ]
  },
  {
   "cell_type": "markdown",
   "id": "f388dcd6-65f0-43da-b902-fff1970c6fea",
   "metadata": {},
   "source": [
    "## Citations for bonus question\n",
    "#### Mathematical computing lectures and resouces by madam Breanda"
   ]
  },
  {
   "cell_type": "code",
   "execution_count": null,
   "id": "7c1e0978-dd16-4436-b16d-1253af30fec9",
   "metadata": {},
   "outputs": [],
   "source": []
  }
 ],
 "metadata": {
  "kernelspec": {
   "display_name": "Python 3 (ipykernel)",
   "language": "python",
   "name": "python3"
  },
  "language_info": {
   "codemirror_mode": {
    "name": "ipython",
    "version": 3
   },
   "file_extension": ".py",
   "mimetype": "text/x-python",
   "name": "python",
   "nbconvert_exporter": "python",
   "pygments_lexer": "ipython3",
   "version": "3.13.0"
  }
 },
 "nbformat": 4,
 "nbformat_minor": 5
}
